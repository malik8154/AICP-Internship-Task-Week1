{
 "cells": [
  {
   "cell_type": "markdown",
   "metadata": {},
   "source": [
    "# AICP Internship Task Week 1"
   ]
  },
  {
   "cell_type": "markdown",
   "metadata": {},
   "source": [
    "### Question#1: Write a NumPy program to create an array of all even integers from 30 to 70."
   ]
  },
  {
   "cell_type": "code",
   "execution_count": 16,
   "metadata": {},
   "outputs": [
    {
     "name": "stdout",
     "output_type": "stream",
     "text": [
      "[30 32 34 36 38 40 42 44 46 48 50 52 54 56 58 60 62 64 66 68 70]\n"
     ]
    }
   ],
   "source": [
    "import numpy as np\n",
    "even_integers = np.arange(30, 71, 2)\n",
    "print(even_integers)\n"
   ]
  },
  {
   "cell_type": "markdown",
   "metadata": {},
   "source": [
    "### Question#2: Write a NumPy program to generate an array of 15 random numbers from a standard normal distribution."
   ]
  },
  {
   "cell_type": "code",
   "execution_count": 17,
   "metadata": {},
   "outputs": [
    {
     "name": "stdout",
     "output_type": "stream",
     "text": [
      "[-0.98634117 -0.40046954 -1.31519043  1.18090042 -0.8878818  -1.25529918\n",
      " -1.67853462 -1.09432078  0.58791997  0.54261672 -0.29288287 -1.08882153\n",
      " -1.36938192 -1.10921321  0.4232685 ]\n"
     ]
    }
   ],
   "source": [
    "import numpy as np\n",
    "random_numbers = np.random.randn(15)\n",
    "print(random_numbers)\n"
   ]
  },
  {
   "cell_type": "markdown",
   "metadata": {},
   "source": [
    "### Question#3: How to compute the cross-product of two matrices in NumPy?"
   ]
  },
  {
   "cell_type": "markdown",
   "metadata": {},
   "source": [
    "In NumPy, you can compute the cross-product of two matrices using the numpy.cross() function. The cross() function calculates the cross product of two arrays along a specified axis."
   ]
  },
  {
   "cell_type": "code",
   "execution_count": 21,
   "metadata": {},
   "outputs": [
    {
     "name": "stdout",
     "output_type": "stream",
     "text": [
      "Cross-Product Matrix:\n",
      "[[-10  20 -10]\n",
      " [-10  20 -10]\n",
      " [-10  20 -10]]\n"
     ]
    }
   ],
   "source": [
    "import numpy as np\n",
    "matrixX = np.array([[1, 2, 3],\n",
    "                    [4, 5, 6],\n",
    "                    [7, 8, 9]])\n",
    "matrixY = np.array([[9, 8, 7],\n",
    "                    [6, 5, 4],\n",
    "                    [3, 2, 1]])\n",
    "cross_product = np.cross(matrixX, matrixY)\n",
    "print(\"Cross-Product Matrix:\")\n",
    "print(cross_product)\n"
   ]
  },
  {
   "cell_type": "markdown",
   "metadata": {},
   "source": [
    "### Question#4: How to compute the determinant of an array using NumPy?"
   ]
  },
  {
   "cell_type": "markdown",
   "metadata": {},
   "source": [
    "The determinant of a 2x2 matrix. "
   ]
  },
  {
   "cell_type": "code",
   "execution_count": 7,
   "metadata": {},
   "outputs": [
    {
     "name": "stdout",
     "output_type": "stream",
     "text": [
      "Matrix:\n",
      "[[4 7]\n",
      " [2 6]]\n",
      "\n",
      "Determinant of the matrix: 10.000000000000002\n"
     ]
    }
   ],
   "source": [
    "import numpy as np\n",
    "matrix = np.array([[4, 7],\n",
    "                   [2, 6]])\n",
    "determinant = np.linalg.det(matrix)\n",
    "print(\"Matrix:\")\n",
    "print(matrix)\n",
    "print(\"\\nDeterminant of the matrix:\", determinant)"
   ]
  },
  {
   "cell_type": "markdown",
   "metadata": {},
   "source": [
    "### Question#5: How to create a 3x3x3 array with random values using NumPy?"
   ]
  },
  {
   "cell_type": "code",
   "execution_count": 8,
   "metadata": {},
   "outputs": [
    {
     "name": "stdout",
     "output_type": "stream",
     "text": [
      "[[[0.88414675 0.21865623 0.80511546]\n",
      "  [0.39164952 0.70255935 0.87498741]\n",
      "  [0.80887758 0.35349349 0.16599024]]\n",
      "\n",
      " [[0.60116512 0.85766841 0.5555882 ]\n",
      "  [0.29361985 0.07945857 0.2741869 ]\n",
      "  [0.01876198 0.0860361  0.6628619 ]]\n",
      "\n",
      " [[0.87293823 0.12186092 0.07418273]\n",
      "  [0.4047791  0.16705887 0.78490287]\n",
      "  [0.4628668  0.71736516 0.1997008 ]]]\n"
     ]
    }
   ],
   "source": [
    "import numpy as np\n",
    "random_array = np.random.rand(3, 3, 3)\n",
    "print(random_array)"
   ]
  },
  {
   "cell_type": "markdown",
   "metadata": {},
   "source": [
    "### Question#6: How to create a 5x5 array with random values and find the minimum and maximum values using NumPy?"
   ]
  },
  {
   "cell_type": "code",
   "execution_count": 12,
   "metadata": {},
   "outputs": [
    {
     "name": "stdout",
     "output_type": "stream",
     "text": [
      "Array:\n",
      "[[0.4661109  0.16343176 0.57386239 0.0263351  0.5518219 ]\n",
      " [0.0811658  0.54878144 0.52289107 0.30942273 0.39296672]\n",
      " [0.29535553 0.15728994 0.30260925 0.84176652 0.16892048]\n",
      " [0.45179198 0.93554024 0.8374889  0.65148057 0.69649098]\n",
      " [0.79492359 0.50518175 0.48974763 0.59962009 0.47635239]]\n",
      "\n",
      "Minimum value: 0.026335095309271028\n",
      "Maximum value: 0.9355402415638367\n"
     ]
    }
   ],
   "source": [
    "import numpy as np\n",
    "\n",
    "random_array = np.random.rand(5, 5)\n",
    "\n",
    "print(\"Array:\")\n",
    "print(random_array)\n",
    "\n",
    "min_value = np.min(random_array)\n",
    "max_value = np.max(random_array)\n",
    "\n",
    "print(\"\\nMinimum value:\", min_value)\n",
    "print(\"Maximum value:\", max_value)\n"
   ]
  },
  {
   "cell_type": "markdown",
   "metadata": {},
   "source": [
    "### Question#7: How to compute the mean, standard deviation, and variance of a given array along the second axis in NumPy?"
   ]
  },
  {
   "cell_type": "code",
   "execution_count": 19,
   "metadata": {},
   "outputs": [
    {
     "name": "stdout",
     "output_type": "stream",
     "text": [
      "Original Array:\n",
      "[[ 1  2  3  4]\n",
      " [ 5  6  7  8]\n",
      " [ 9 10 11 12]]\n",
      "\n",
      "Mean along the second axis:\n",
      "[ 2.5  6.5 10.5]\n",
      "\n",
      "Standard Deviation along the second axis:\n",
      "[1.11803399 1.11803399 1.11803399]\n",
      "\n",
      "Variance along the second axis:\n",
      "[1.25 1.25 1.25]\n"
     ]
    }
   ],
   "source": [
    "import numpy as np\n",
    "array = np.array([[1, 2, 3, 4],\n",
    "                  [5, 6, 7, 8],\n",
    "                  [9, 10, 11, 12]])\n",
    "mean_values = np.mean(array, axis=1)\n",
    "std_dev_values = np.std(array, axis=1)\n",
    "variance_values = np.var(array, axis=1)\n",
    "print(\"Original Array:\")\n",
    "print(array)\n",
    "print(\"\\nMean along the second axis:\")\n",
    "print(mean_values)\n",
    "print(\"\\nStandard Deviation along the second axis:\")\n",
    "print(std_dev_values)\n",
    "print(\"\\nVariance along the second axis:\")\n",
    "print(variance_values)"
   ]
  },
  {
   "cell_type": "markdown",
   "metadata": {},
   "source": [
    "### Created by: Malik M SHahmeer Rashid"
   ]
  }
 ],
 "metadata": {
  "kernelspec": {
   "display_name": "Python 3",
   "language": "python",
   "name": "python3"
  },
  "language_info": {
   "codemirror_mode": {
    "name": "ipython",
    "version": 3
   },
   "file_extension": ".py",
   "mimetype": "text/x-python",
   "name": "python",
   "nbconvert_exporter": "python",
   "pygments_lexer": "ipython3",
   "version": "3.7.3"
  }
 },
 "nbformat": 4,
 "nbformat_minor": 2
}
